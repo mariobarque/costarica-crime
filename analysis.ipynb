{
 "cells": [
  {
   "cell_type": "code",
   "execution_count": null,
   "metadata": {
    "collapsed": true
   },
   "outputs": [],
   "source": [
    "from pyspark.sql import SparkSession\n",
    "import data_processing\n",
    "\n",
    "spark = SparkSession.builder.appName('database').master('local').getOrCreate()\n",
    "data = get_merged_data(spark, 'data/distritos.csv', 'data/crimenes.csv', 'data/escuelas.csv', 'data/colegios.csv',\n",
    "                    'data/extranjeros_escuelas.csv', 'data/extranjeros_colegios.csv', 'data/processed/dataset.csv')\n"
   ]
  }
 ],
 "metadata": {
  "kernelspec": {
   "display_name": "Python 2",
   "language": "python",
   "name": "python2"
  },
  "language_info": {
   "codemirror_mode": {
    "name": "ipython",
    "version": 2
   },
   "file_extension": ".py",
   "mimetype": "text/x-python",
   "name": "python",
   "nbconvert_exporter": "python",
   "pygments_lexer": "ipython2",
   "version": "2.7.6"
  }
 },
 "nbformat": 4,
 "nbformat_minor": 0
}
