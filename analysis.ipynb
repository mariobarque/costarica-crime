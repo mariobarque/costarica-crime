{
 "cells": [
  {
   "cell_type": "code",
   "execution_count": null,
   "metadata": {
    "collapsed": true
   },
   "outputs": [],
   "source": [
    "# import all methods\n",
    "\n",
    "from pyspark.sql import SparkSession\n",
    "from data_processing import get_processed_data, save_dataset_to_db, get_data_set_from_db\n",
    "from analysis import process_df, vectorize_data, stardize_data, perform_cross_validation\n",
    "from pyspark.ml.regression import LinearRegression\n",
    "from pyspark.ml.stat import Correlation\n",
    "import seaborn as sns\n",
    "import matplotlib.pyplot as plt"
   ]
  },
  {
   "cell_type": "code",
   "execution_count": null,
   "metadata": {},
   "outputs": [],
   "source": [
    "# Database variables\n",
    "database_name = 'distritos'\n",
    "database_user_name = 'postgres'\n",
    "database_password = '123'\n",
    "database_table = 'distritos'\n",
    "\n",
    "# Other variables\n",
    "features = ['POBLACION_2016', 'IDS', 'DENSIDAD', 'TCP',\n",
    "            'CTAAM', 'CTM', 'CPPR', 'CPRU', 'CPHM', 'CPEXM',\n",
    "            'TASA_ASALTO', 'TASA_HOMICIDIO', 'TASA_HURTO', 'TASA_ROBO']\n",
    "label = 'CTAA'\n",
    "features_standard = 'features_starndard'"
   ]
  },
  {
   "cell_type": "code",
   "execution_count": null,
   "metadata": {},
   "outputs": [],
   "source": [
    "# Merging and processsing all data\n",
    "\n",
    "spark = SparkSession.builder.appName('database').master('local')\\\n",
    "                            .appName(\"Basic JDBC pipeline\") \\\n",
    "                            .config(\"spark.driver.extraClassPath\", \"postgresql-42.1.4.jar\") \\\n",
    "                            .config(\"spark.executor.extraClassPath\", \"postgresql-42.1.4.jar\") \\\n",
    "                            .getOrCreate()\n",
    "\n",
    "\n",
    "distritos_df = get_processed_data(spark, 'data/distritos.csv', 'data/crimenes.csv',\n",
    "                               'data/escuelas.csv', 'data/colegios.csv',\n",
    "                               'data/extranjeros_escuelas.csv', 'data/extranjeros_colegios.csv',\n",
    "                               'data/processed/dataset.csv')\n",
    "\n",
    "distritos_df.select(['POBLACION_2016', 'IDS', 'TASA_ROBO', 'CTAA']).show()"
   ]
  },
  {
   "cell_type": "code",
   "execution_count": null,
   "metadata": {},
   "outputs": [],
   "source": [
    "# Saving and getting it from the database\n",
    "\n",
    "save_dataset_to_db(distritos_df, database_name, database_user_name, database_password, database_table)\n",
    "\n",
    "distritos_df = get_data_set_from_db(spark, database_name, database_user_name, database_password, database_table)\n"
   ]
  },
  {
   "cell_type": "code",
   "execution_count": null,
   "metadata": {},
   "outputs": [],
   "source": [
    "# Show the Pearson Matrix\n",
    "\n",
    "df = process_df(distritos_df, features + [label], label)\n",
    "df = vectorize_data(df, features)\n",
    "df = stardize_data(df, features_standard)\n",
    "\n",
    "pearson_matrix = Correlation.corr(df, 'features').collect()[0][0]\n",
    "\n",
    "sns.heatmap(pearson_matrix.toArray(), annot=True, fmt=\".2f\", cmap='viridis')"
   ]
  },
  {
   "cell_type": "code",
   "execution_count": null,
   "metadata": {},
   "outputs": [],
   "source": [
    "# Train and evaluate a Linear Regression Model\n",
    "\n",
    "train, test = df.randomSplit([0.9, 0.1])\n",
    "lr = LinearRegression(featuresCol=features_standard, labelCol='label')\n",
    "\n",
    "cv_model = perform_cross_validation(train, lr)\n",
    "\n",
    "evaluation_summary = cv_model.bestModel.evaluate(test)\n",
    "\n",
    "print('R2: ', evaluation_summary.r2)\n",
    "print('MSE: ', evaluation_summary.meanSquaredError)"
   ]
  }
 ],
 "metadata": {
  "kernelspec": {
   "display_name": "Python 2",
   "language": "python",
   "name": "python2"
  },
  "language_info": {
   "codemirror_mode": {
    "name": "ipython",
    "version": 2
   },
   "file_extension": ".py",
   "mimetype": "text/x-python",
   "name": "python",
   "nbconvert_exporter": "python",
   "pygments_lexer": "ipython2",
   "version": "2.7.6"
  }
 },
 "nbformat": 4,
 "nbformat_minor": 0
}
